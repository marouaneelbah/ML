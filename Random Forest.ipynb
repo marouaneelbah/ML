{
 "cells": [
  {
   "cell_type": "code",
   "execution_count": 1,
   "id": "0a3930e5",
   "metadata": {},
   "outputs": [],
   "source": [
    "import numpy as np\n",
    "import pandas as pd\n",
    "from sklearn.model_selection import StratifiedKFold\n",
    "from sklearn.metrics import mean_squared_error\n",
    "from sklearn.model_selection import train_test_split\n",
    "from sklearn.metrics import r2_score\n",
    "from sklearn.metrics import accuracy_score\n",
    "from math import sqrt\n",
    "from sklearn.ensemble import RandomForestClassifier\n",
    "from sklearn.ensemble import RandomForestRegressor\n",
    "import matplotlib.pyplot as plt"
   ]
  },
  {
   "cell_type": "code",
   "execution_count": 2,
   "id": "70a08f22",
   "metadata": {},
   "outputs": [
    {
     "data": {
      "text/html": [
       "<div>\n",
       "<style scoped>\n",
       "    .dataframe tbody tr th:only-of-type {\n",
       "        vertical-align: middle;\n",
       "    }\n",
       "\n",
       "    .dataframe tbody tr th {\n",
       "        vertical-align: top;\n",
       "    }\n",
       "\n",
       "    .dataframe thead th {\n",
       "        text-align: right;\n",
       "    }\n",
       "</style>\n",
       "<table border=\"1\" class=\"dataframe\">\n",
       "  <thead>\n",
       "    <tr style=\"text-align: right;\">\n",
       "      <th></th>\n",
       "      <th>CaO</th>\n",
       "      <th>Al2O3</th>\n",
       "      <th>SiO2</th>\n",
       "      <th>Ev</th>\n",
       "      <th>E</th>\n",
       "    </tr>\n",
       "  </thead>\n",
       "  <tbody>\n",
       "    <tr>\n",
       "      <th>0</th>\n",
       "      <td>0</td>\n",
       "      <td>0</td>\n",
       "      <td>100</td>\n",
       "      <td>79.447276</td>\n",
       "      <td>79</td>\n",
       "    </tr>\n",
       "    <tr>\n",
       "      <th>1</th>\n",
       "      <td>0</td>\n",
       "      <td>5</td>\n",
       "      <td>95</td>\n",
       "      <td>84.798098</td>\n",
       "      <td>84</td>\n",
       "    </tr>\n",
       "    <tr>\n",
       "      <th>2</th>\n",
       "      <td>5</td>\n",
       "      <td>0</td>\n",
       "      <td>95</td>\n",
       "      <td>78.219451</td>\n",
       "      <td>78</td>\n",
       "    </tr>\n",
       "    <tr>\n",
       "      <th>3</th>\n",
       "      <td>0</td>\n",
       "      <td>10</td>\n",
       "      <td>90</td>\n",
       "      <td>94.687479</td>\n",
       "      <td>94</td>\n",
       "    </tr>\n",
       "    <tr>\n",
       "      <th>4</th>\n",
       "      <td>5</td>\n",
       "      <td>5</td>\n",
       "      <td>90</td>\n",
       "      <td>87.943101</td>\n",
       "      <td>87</td>\n",
       "    </tr>\n",
       "  </tbody>\n",
       "</table>\n",
       "</div>"
      ],
      "text/plain": [
       "   CaO  Al2O3  SiO2         Ev   E\n",
       "0    0      0   100  79.447276  79\n",
       "1    0      5    95  84.798098  84\n",
       "2    5      0    95  78.219451  78\n",
       "3    0     10    90  94.687479  94\n",
       "4    5      5    90  87.943101  87"
      ]
     },
     "execution_count": 2,
     "metadata": {},
     "output_type": "execute_result"
    }
   ],
   "source": [
    "# Load data\n",
    "data=pd.read_excel(r\"C:/Users/eme_m/Downloads/CAS_simu_young2.xlsx\")\n",
    "\n",
    "data.head()"
   ]
  },
  {
   "cell_type": "code",
   "execution_count": 3,
   "id": "ae4d3e70",
   "metadata": {},
   "outputs": [],
   "source": [
    "# Spliting data into Feature\n",
    "X=data[['CaO', 'Al2O3', 'SiO2']]\n",
    "y=data['E']\n",
    "\n",
    "kfold = StratifiedKFold(n_splits=5, random_state=5, shuffle=True)\n",
    "\n",
    "# Split dataset into training set and test set\n",
    "X_train, X_test, y_train, y_test = train_test_split(X, y, test_size=0.25, random_state=5)"
   ]
  },
  {
   "cell_type": "code",
   "execution_count": 4,
   "id": "bbda3cb7",
   "metadata": {},
   "outputs": [
    {
     "name": "stdout",
     "output_type": "stream",
     "text": [
      "RMSE= [4.452817782808606] R2= 0.9313407393377418 n_estimators= 10\n",
      "RMSE= [4.452817782808606, 4.54858826147342] R2= 0.9283555540915567 n_estimators= 100\n",
      "RMSE= [4.452817782808606, 4.54858826147342, 4.313171486952735] R2= 0.9355797023873247 n_estimators= 200\n",
      "RMSE= [4.452817782808606, 4.54858826147342, 4.313171486952735, 4.364828076560523] R2= 0.9340274060593085 n_estimators= 300\n",
      "RMSE= [4.452817782808606, 4.54858826147342, 4.313171486952735, 4.364828076560523, 4.786835395482936] R2= 0.920653776156399 n_estimators= 400\n",
      "RMSE= [4.452817782808606, 4.54858826147342, 4.313171486952735, 4.364828076560523, 4.786835395482936, 4.49904204362938] R2= 0.9299078504195729 n_estimators= 500\n"
     ]
    }
   ],
   "source": [
    "n_estimators=[10,100,200,300,400,500]\n",
    "RMSE=[]\n",
    "for i in range(len(n_estimators)):\n",
    "    clf = RandomForestClassifier(n_estimators=n_estimators[i])  \n",
    "    clf = clf.fit(X_train, y_train)\n",
    "    ypred=clf.predict(X_test)\n",
    "    MSE=mean_squared_error(y_test, ypred)\n",
    "    RMSE.append(sqrt(MSE))\n",
    "    R2=r2_score(y_test, ypred)\n",
    "    print('RMSE=', RMSE ,'R2=',R2 , 'n_estimators=', n_estimators[i] )"
   ]
  },
  {
   "cell_type": "code",
   "execution_count": 5,
   "id": "df942584",
   "metadata": {},
   "outputs": [
    {
     "name": "stdout",
     "output_type": "stream",
     "text": [
      "RMSE= [0.3484067784027662] R2= 0.9995599709990245 n_estimators= 10\n",
      "RMSE= [0.3484067784027662, 0.0] R2= 1.0 n_estimators= 100\n",
      "RMSE= [0.3484067784027662, 0.0, 0.0] R2= 1.0 n_estimators= 200\n",
      "RMSE= [0.3484067784027662, 0.0, 0.0, 0.0] R2= 1.0 n_estimators= 300\n",
      "RMSE= [0.3484067784027662, 0.0, 0.0, 0.0, 0.0] R2= 1.0 n_estimators= 400\n",
      "RMSE= [0.3484067784027662, 0.0, 0.0, 0.0, 0.0, 0.0] R2= 1.0 n_estimators= 500\n"
     ]
    }
   ],
   "source": [
    "n_estimators=[10,100,200,300,400,500]\n",
    "RMSEt=[]\n",
    "for i in range(len(n_estimators)):\n",
    "    clf = RandomForestClassifier(n_estimators=n_estimators[i])  \n",
    "    clf = clf.fit(X_train, y_train)\n",
    "    ypred=clf.predict(X_train)\n",
    "    MSE=mean_squared_error(y_train, ypred)\n",
    "    RMSEt.append(sqrt(MSE))\n",
    "    R2=r2_score(y_train, ypred)\n",
    "    print('RMSE=', RMSEt ,'R2=',R2 , 'n_estimators=', n_estimators[i] )"
   ]
  },
  {
   "cell_type": "code",
   "execution_count": 6,
   "id": "d4615ffb",
   "metadata": {},
   "outputs": [
    {
     "name": "stdout",
     "output_type": "stream",
     "text": [
      "RMSE= [3.44093010681705] R2= 0.9590002717547949 n_estimators= 10\n",
      "RMSE= [3.44093010681705, 3.2563577072000824] R2= 0.9632807766422636 n_estimators= 100\n",
      "RMSE= [3.44093010681705, 3.2563577072000824, 3.28136713255629] R2= 0.9627145899899533 n_estimators= 200\n",
      "RMSE= [3.44093010681705, 3.2563577072000824, 3.28136713255629, 3.250942509960018] R2= 0.9634028004011357 n_estimators= 300\n",
      "RMSE= [3.44093010681705, 3.2563577072000824, 3.28136713255629, 3.250942509960018, 3.2695811645192903] R2= 0.9629819513898611 n_estimators= 400\n",
      "RMSE= [3.44093010681705, 3.2563577072000824, 3.28136713255629, 3.250942509960018, 3.2695811645192903, 3.2338362294062897] R2= 0.9637869319954213 n_estimators= 500\n"
     ]
    }
   ],
   "source": [
    "n_estimators=[10,100,200,300,400,500]\n",
    "RMSEr=[]\n",
    "for i in range(len(n_estimators)):\n",
    "    clf = RandomForestRegressor(n_estimators=n_estimators[i])  \n",
    "    clf = clf.fit(X_train, y_train)\n",
    "    ypred=clf.predict(X_test)\n",
    "    MSE=mean_squared_error(y_test, ypred)\n",
    "    RMSEr.append(sqrt(MSE))\n",
    "    R2=r2_score(y_test, ypred)\n",
    "    print('RMSE=', RMSEr ,'R2=',R2 , 'n_estimators=', n_estimators[i] )"
   ]
  },
  {
   "cell_type": "code",
   "execution_count": 13,
   "id": "06609680",
   "metadata": {},
   "outputs": [
    {
     "name": "stdout",
     "output_type": "stream",
     "text": [
      "RMSE= [1.3805837753260908] R2= 0.9930907065342066 n_estimators= 10\n",
      "RMSE= [1.3805837753260908, 1.1470474789977723] R2= 0.9952305214676742 n_estimators= 100\n",
      "RMSE= [1.3805837753260908, 1.1470474789977723, 1.1279475836425585] R2= 0.9953880356108579 n_estimators= 200\n",
      "RMSE= [1.3805837753260908, 1.1470474789977723, 1.1279475836425585, 1.1256005319305502] R2= 0.995407208943297 n_estimators= 300\n",
      "RMSE= [1.3805837753260908, 1.1470474789977723, 1.1279475836425585, 1.1256005319305502, 1.1095401295730356] R2= 0.9955373365341618 n_estimators= 400\n",
      "RMSE= [1.3805837753260908, 1.1470474789977723, 1.1279475836425585, 1.1256005319305502, 1.1095401295730356, 1.1242670059100885] R2= 0.9954180848770281 n_estimators= 500\n"
     ]
    }
   ],
   "source": [
    "n_estimators=[10,100,200,300,400,500]\n",
    "RMSErt=[]\n",
    "for i in range(len(n_estimators)):\n",
    "    clf = RandomForestRegressor(n_estimators=n_estimators[i])  \n",
    "    clf = clf.fit(X_train, y_train)\n",
    "    ypred=clf.predict(X_train)\n",
    "    MSE=mean_squared_error(y_train, ypred)\n",
    "    RMSErt.append(sqrt(MSE))\n",
    "    R2=r2_score(y_train, ypred)\n",
    "    print('RMSE=', RMSErt ,'R2=',R2 , 'n_estimators=', n_estimators[i] )"
   ]
  },
  {
   "cell_type": "code",
   "execution_count": 14,
   "id": "99909797",
   "metadata": {},
   "outputs": [
    {
     "data": {
      "text/plain": [
       "[<matplotlib.lines.Line2D at 0x23d71fc6a70>]"
      ]
     },
     "execution_count": 14,
     "metadata": {},
     "output_type": "execute_result"
    },
    {
     "data": {
      "image/png": "[encoded data removed]",
      "text/plain": [
       "<Figure size 432x288 with 1 Axes>"
      ]
     },
     "metadata": {
      "needs_background": "light"
     },
     "output_type": "display_data"
    }
   ],
   "source": [
    "plt.plot(n_estimators,RMSEt)\n",
    "plt.plot(n_estimators,RMSE)\n"
   ]
  },
  {
   "cell_type": "code",
   "execution_count": 16,
   "id": "74a80a35",
   "metadata": {},
   "outputs": [
    {
     "data": {
      "text/plain": [
       "Text(0, 0.5, 'RMSE')"
      ]
     },
     "execution_count": 16,
     "metadata": {},
     "output_type": "execute_result"
    },
    {
     "data": {
      "image/png": "[encoded data removed]",
      "text/plain": [
       "<Figure size 432x288 with 1 Axes>"
      ]
     },
     "metadata": {
      "needs_background": "light"
     },
     "output_type": "display_data"
    }
   ],
   "source": [
    "plt.plot(n_estimators,RMSErt)\n",
    "plt.plot(n_estimators,RMSEr)\n",
    "plt.xlabel('Number of trees')\n",
    "plt.ylabel('RMSE')"
   ]
  },
  {
   "cell_type": "code",
   "execution_count": null,
   "id": "c317960c",
   "metadata": {},
   "outputs": [],
   "source": []
  }
 ],
 "metadata": {
  "kernelspec": {
   "display_name": "Python 3 (ipykernel)",
   "language": "python",
   "name": "python3"
  },
  "language_info": {
   "codemirror_mode": {
    "name": "ipython",
    "version": 3
   },
   "file_extension": ".py",
   "mimetype": "text/x-python",
   "name": "python",
   "nbconvert_exporter": "python",
   "pygments_lexer": "ipython3",
   "version": "3.10.4"
  }
 },
 "nbformat": 4,
 "nbformat_minor": 5
}
