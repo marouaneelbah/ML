{
 "cells": [
  {
   "cell_type": "code",
   "execution_count": 1,
   "id": "8e630ae5",
   "metadata": {},
   "outputs": [],
   "source": [
    "import numpy as np\n",
    "import pandas as pd\n",
    "from sklearn.model_selection import StratifiedKFold\n",
    "from sklearn.metrics import mean_squared_error\n",
    "from sklearn.model_selection import train_test_split\n",
    "from sklearn.metrics import r2_score\n",
    "from sklearn.neural_network import MLPClassifier\n",
    "from sklearn.neural_network import MLPRegressor\n",
    "from sklearn.metrics import accuracy_score\n",
    "from math import sqrt\n",
    "import matplotlib.pyplot as plt"
   ]
  },
  {
   "cell_type": "code",
   "execution_count": 2,
   "id": "6efea35f",
   "metadata": {},
   "outputs": [
    {
     "data": {
      "text/html": [
       "<div>\n",
       "<style scoped>\n",
       "    .dataframe tbody tr th:only-of-type {\n",
       "        vertical-align: middle;\n",
       "    }\n",
       "\n",
       "    .dataframe tbody tr th {\n",
       "        vertical-align: top;\n",
       "    }\n",
       "\n",
       "    .dataframe thead th {\n",
       "        text-align: right;\n",
       "    }\n",
       "</style>\n",
       "<table border=\"1\" class=\"dataframe\">\n",
       "  <thead>\n",
       "    <tr style=\"text-align: right;\">\n",
       "      <th></th>\n",
       "      <th>CaO</th>\n",
       "      <th>Al2O3</th>\n",
       "      <th>SiO2</th>\n",
       "      <th>Ev</th>\n",
       "      <th>E</th>\n",
       "    </tr>\n",
       "  </thead>\n",
       "  <tbody>\n",
       "    <tr>\n",
       "      <th>0</th>\n",
       "      <td>0</td>\n",
       "      <td>0</td>\n",
       "      <td>100</td>\n",
       "      <td>79.447276</td>\n",
       "      <td>79</td>\n",
       "    </tr>\n",
       "    <tr>\n",
       "      <th>1</th>\n",
       "      <td>0</td>\n",
       "      <td>5</td>\n",
       "      <td>95</td>\n",
       "      <td>84.798098</td>\n",
       "      <td>84</td>\n",
       "    </tr>\n",
       "    <tr>\n",
       "      <th>2</th>\n",
       "      <td>5</td>\n",
       "      <td>0</td>\n",
       "      <td>95</td>\n",
       "      <td>78.219451</td>\n",
       "      <td>78</td>\n",
       "    </tr>\n",
       "    <tr>\n",
       "      <th>3</th>\n",
       "      <td>0</td>\n",
       "      <td>10</td>\n",
       "      <td>90</td>\n",
       "      <td>94.687479</td>\n",
       "      <td>94</td>\n",
       "    </tr>\n",
       "    <tr>\n",
       "      <th>4</th>\n",
       "      <td>5</td>\n",
       "      <td>5</td>\n",
       "      <td>90</td>\n",
       "      <td>87.943101</td>\n",
       "      <td>87</td>\n",
       "    </tr>\n",
       "  </tbody>\n",
       "</table>\n",
       "</div>"
      ],
      "text/plain": [
       "   CaO  Al2O3  SiO2         Ev   E\n",
       "0    0      0   100  79.447276  79\n",
       "1    0      5    95  84.798098  84\n",
       "2    5      0    95  78.219451  78\n",
       "3    0     10    90  94.687479  94\n",
       "4    5      5    90  87.943101  87"
      ]
     },
     "execution_count": 2,
     "metadata": {},
     "output_type": "execute_result"
    }
   ],
   "source": [
    "# Load data\n",
    "data=pd.read_excel(r\"C:/Users/eme_m/Downloads/CAS_simu_young2.xlsx\")\n",
    "data.head()"
   ]
  },
  {
   "cell_type": "code",
   "execution_count": 3,
   "id": "ab385658",
   "metadata": {},
   "outputs": [],
   "source": [
    "\n",
    "# Spliting data into Feature\n",
    "X=data[['CaO', 'Al2O3', 'SiO2']]\n",
    "y=data['E']\n",
    "\n",
    "kfold = StratifiedKFold(n_splits=5, random_state=None, shuffle=True)\n",
    "\n",
    "# Split dataset into training set and test set\n",
    "X_train, X_test, y_train, y_test = train_test_split(X, y, test_size=0.25, random_state=None)"
   ]
  },
  {
   "cell_type": "code",
   "execution_count": 4,
   "id": "3dc608fb",
   "metadata": {},
   "outputs": [
    {
     "name": "stdout",
     "output_type": "stream",
     "text": [
      "RMSE= [17.208549742382605] R2= -1.0502709812953981e-13 neurons= 1\n",
      "RMSE= [17.208549742382605, 6.313451741215948] R2= 0.8653999605229848 neurons= 2\n",
      "RMSE= [17.208549742382605, 6.313451741215948, 2.531554651100651] R2= 0.9783585641487393 neurons= 3\n",
      "RMSE= [17.208549742382605, 6.313451741215948, 2.531554651100651, 2.531575090098568] R2= 0.9783582146946617 neurons= 4\n"
     ]
    },
    {
     "name": "stderr",
     "output_type": "stream",
     "text": [
      "C:\\Users\\eme_m\\AppData\\Local\\Programs\\Python\\Python310\\lib\\site-packages\\sklearn\\neural_network\\_multilayer_perceptron.py:549: ConvergenceWarning: lbfgs failed to converge (status=1):\n",
      "STOP: TOTAL NO. of ITERATIONS REACHED LIMIT.\n",
      "\n",
      "Increase the number of iterations (max_iter) or scale the data as shown in:\n",
      "    https://scikit-learn.org/stable/modules/preprocessing.html\n",
      "  self.n_iter_ = _check_optimize_result(\"lbfgs\", opt_res, self.max_iter)\n",
      "C:\\Users\\eme_m\\AppData\\Local\\Programs\\Python\\Python310\\lib\\site-packages\\sklearn\\neural_network\\_multilayer_perceptron.py:549: ConvergenceWarning: lbfgs failed to converge (status=1):\n",
      "STOP: TOTAL NO. of ITERATIONS REACHED LIMIT.\n",
      "\n",
      "Increase the number of iterations (max_iter) or scale the data as shown in:\n",
      "    https://scikit-learn.org/stable/modules/preprocessing.html\n",
      "  self.n_iter_ = _check_optimize_result(\"lbfgs\", opt_res, self.max_iter)\n"
     ]
    },
    {
     "name": "stdout",
     "output_type": "stream",
     "text": [
      "RMSE= [17.208549742382605, 6.313451741215948, 2.531554651100651, 2.531575090098568, 2.3636967305160135] R2= 0.981133342480316 neurons= 5\n",
      "RMSE= [17.208549742382605, 6.313451741215948, 2.531554651100651, 2.531575090098568, 2.3636967305160135, 2.546492014233427] R2= 0.9781024213895338 neurons= 6\n",
      "RMSE= [17.208549742382605, 6.313451741215948, 2.531554651100651, 2.531575090098568, 2.3636967305160135, 2.546492014233427, 2.3405002025358956] R2= 0.9815018275846717 neurons= 7\n",
      "RMSE= [17.208549742382605, 6.313451741215948, 2.531554651100651, 2.531575090098568, 2.3636967305160135, 2.546492014233427, 2.3405002025358956, 2.4404893762928834] R2= 0.9798875350673755 neurons= 8\n",
      "RMSE= [17.208549742382605, 6.313451741215948, 2.531554651100651, 2.531575090098568, 2.3636967305160135, 2.546492014233427, 2.3405002025358956, 2.4404893762928834, 2.3719593105261536] R2= 0.9810012107001213 neurons= 9\n"
     ]
    },
    {
     "name": "stderr",
     "output_type": "stream",
     "text": [
      "C:\\Users\\eme_m\\AppData\\Local\\Programs\\Python\\Python310\\lib\\site-packages\\sklearn\\neural_network\\_multilayer_perceptron.py:549: ConvergenceWarning: lbfgs failed to converge (status=1):\n",
      "STOP: TOTAL NO. of ITERATIONS REACHED LIMIT.\n",
      "\n",
      "Increase the number of iterations (max_iter) or scale the data as shown in:\n",
      "    https://scikit-learn.org/stable/modules/preprocessing.html\n",
      "  self.n_iter_ = _check_optimize_result(\"lbfgs\", opt_res, self.max_iter)\n",
      "C:\\Users\\eme_m\\AppData\\Local\\Programs\\Python\\Python310\\lib\\site-packages\\sklearn\\neural_network\\_multilayer_perceptron.py:549: ConvergenceWarning: lbfgs failed to converge (status=1):\n",
      "STOP: TOTAL NO. of ITERATIONS REACHED LIMIT.\n",
      "\n",
      "Increase the number of iterations (max_iter) or scale the data as shown in:\n",
      "    https://scikit-learn.org/stable/modules/preprocessing.html\n",
      "  self.n_iter_ = _check_optimize_result(\"lbfgs\", opt_res, self.max_iter)\n"
     ]
    }
   ],
   "source": [
    "i=1\n",
    "RMSEt=[]\n",
    "while i < 10 :\n",
    "    regr=MLPRegressor(hidden_layer_sizes=(i), activation='relu',solver='lbfgs', \n",
    "                  batch_size='auto', learning_rate='constant', learning_rate_init=0.001,\n",
    "                  max_iter=200, shuffle=True, random_state=None).fit(X_train, y_train)\n",
    "    \n",
    "    ypred=regr.predict(X_train)\n",
    "    MSE=mean_squared_error(y_train, ypred)\n",
    "    RMSEt.append(sqrt(MSE))\n",
    "    R2=r2_score(y_train, ypred)\n",
    "    \n",
    "    print('RMSE=', RMSEt ,'R2=',R2 , 'neurons=',i)\n",
    "    i=i+1"
   ]
  },
  {
   "cell_type": "code",
   "execution_count": 5,
   "id": "96a53a2a",
   "metadata": {},
   "outputs": [
    {
     "name": "stdout",
     "output_type": "stream",
     "text": [
      "RMSE= [6.168477258476441] R2= 0.827110591023056 neurons= 1\n",
      "RMSE= [6.168477258476441, 15.233975144997238] R2= -0.05448143768874392 neurons= 2\n",
      "RMSE= [6.168477258476441, 15.233975144997238, 3.1711372120173174] R2= 0.9543077523863744 neurons= 3\n",
      "RMSE= [6.168477258476441, 15.233975144997238, 3.1711372120173174, 6.168476638721206] R2= 0.8271106257639188 neurons= 4\n",
      "RMSE= [6.168477258476441, 15.233975144997238, 3.1711372120173174, 6.168476638721206, 3.054416372268775] R2= 0.9576094616840738 neurons= 5\n",
      "RMSE= [6.168477258476441, 15.233975144997238, 3.1711372120173174, 6.168476638721206, 3.054416372268775, 3.0248426389471215] R2= 0.9584263623560929 neurons= 6\n",
      "RMSE= [6.168477258476441, 15.233975144997238, 3.1711372120173174, 6.168476638721206, 3.054416372268775, 3.0248426389471215, 2.7909332243434632] R2= 0.9646074914860838 neurons= 7\n",
      "RMSE= [6.168477258476441, 15.233975144997238, 3.1711372120173174, 6.168476638721206, 3.054416372268775, 3.0248426389471215, 2.7909332243434632, 3.0471732908630074] R2= 0.9578102686700913 neurons= 8\n",
      "RMSE= [6.168477258476441, 15.233975144997238, 3.1711372120173174, 6.168476638721206, 3.054416372268775, 3.0248426389471215, 2.7909332243434632, 3.0471732908630074, 2.6715725803371098] R2= 0.9675700403249785 neurons= 9\n"
     ]
    }
   ],
   "source": [
    "i=1\n",
    "RMSE=[]\n",
    "while i < 10 :\n",
    "    regr=MLPRegressor(hidden_layer_sizes=(i), activation='relu',solver='lbfgs', \n",
    "                  batch_size='auto', learning_rate='constant', learning_rate_init=0.001,\n",
    "                  max_iter=200, shuffle=True, random_state=None).fit(X_train, y_train)\n",
    "    \n",
    "    ypred=regr.predict(X_test)\n",
    "    MSE=mean_squared_error(y_test, ypred)\n",
    "    RMSE.append(sqrt(MSE))\n",
    "    R2=r2_score(y_test, ypred)\n",
    "    \n",
    "    print('RMSE=', RMSE ,'R2=',R2 , 'neurons=',i)\n",
    "    i=i+1"
   ]
  },
  {
   "cell_type": "code",
   "execution_count": 6,
   "id": "5164ebc1",
   "metadata": {},
   "outputs": [
    {
     "data": {
      "image/png": "[encoded data removed]",
      "text/plain": [
       "<Figure size 432x288 with 1 Axes>"
      ]
     },
     "metadata": {
      "needs_background": "light"
     },
     "output_type": "display_data"
    }
   ],
   "source": [
    "i=[1,2,3,4,5,6,7,8,9]\n",
    "plt.plot(i,RMSEt)\n",
    "plt.plot(i,RMSE)\n",
    "plt.xlabel('Number of neurons')\n",
    "plt.ylabel('RMSE')\n",
    "plt.savefig('qqqqqq')"
   ]
  },
  {
   "cell_type": "code",
   "execution_count": null,
   "id": "b248fedd",
   "metadata": {},
   "outputs": [],
   "source": []
  },
  {
   "cell_type": "code",
   "execution_count": null,
   "id": "5b3b4b07",
   "metadata": {},
   "outputs": [],
   "source": []
  },
  {
   "cell_type": "code",
   "execution_count": null,
   "id": "af926bbe",
   "metadata": {},
   "outputs": [],
   "source": []
  },
  {
   "cell_type": "code",
   "execution_count": null,
   "id": "78515ef6",
   "metadata": {},
   "outputs": [],
   "source": []
  }
 ],
 "metadata": {
  "kernelspec": {
   "display_name": "Python 3 (ipykernel)",
   "language": "python",
   "name": "python3"
  },
  "language_info": {
   "codemirror_mode": {
    "name": "ipython",
    "version": 3
   },
   "file_extension": ".py",
   "mimetype": "text/x-python",
   "name": "python",
   "nbconvert_exporter": "python",
   "pygments_lexer": "ipython3",
   "version": "3.10.4"
  }
 },
 "nbformat": 4,
 "nbformat_minor": 5
}
